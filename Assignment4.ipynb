{
 "cells": [
  {
   "cell_type": "markdown",
   "metadata": {},
   "source": [
    "Question 1.1"
   ]
  },
  {
   "cell_type": "code",
   "execution_count": 1,
   "metadata": {},
   "outputs": [
    {
     "name": "stdout",
     "output_type": "stream",
     "text": [
      "Three sides of Triangle are : 5 6 and 7\n"
     ]
    }
   ],
   "source": [
    "class triangle:\n",
    "    def __init__(self,x,y,z):\n",
    "        self.x=x\n",
    "        self.y=y\n",
    "        self.z=z\n",
    "        \n",
    "    def __str__(self):\n",
    "        return 'Three sides of Triangle are : %d %d and %d'  %(self.x,self.y,self.z)\n",
    "\n",
    "t=triangle(5,6,7)\n",
    "print(t)"
   ]
  },
  {
   "cell_type": "code",
   "execution_count": 2,
   "metadata": {},
   "outputs": [
    {
     "name": "stdout",
     "output_type": "stream",
     "text": [
      "Three sides of Triangle are : 24 30 and 18\n",
      "Side :  36.0\n",
      "216.0\n"
     ]
    }
   ],
   "source": [
    "# Heron's Formula for the area of a triangle\n",
    "\n",
    "class area(triangle):\n",
    "    def __init__(self,*args):\n",
    "        super(area,self).__init__(*args)\n",
    "        \n",
    "    def cal(self):\n",
    "        s=(self.x+self.y+self.z)/2\n",
    "        print('Side : ',s)\n",
    "        area=(s*(s-self.x)*(s-self.y)*(s-self.z))**0.5\n",
    "        return area\n",
    "    \n",
    "a=area(24,30,18)\n",
    "print(a)\n",
    "print(a.cal())"
   ]
  },
  {
   "cell_type": "markdown",
   "metadata": {},
   "source": [
    "Question 1.2"
   ]
  },
  {
   "cell_type": "code",
   "execution_count": 3,
   "metadata": {},
   "outputs": [
    {
     "name": "stdout",
     "output_type": "stream",
     "text": [
      "Enter list of word : ram,shyam,mohan,sita,dev,purnima,rahul\n",
      "Enter integer : 4\n",
      "The list of words longer than the integer is ['shyam', 'mohan', 'purnima', 'rahul']\n"
     ]
    }
   ],
   "source": [
    "def filter_long_words(str1,numb):\n",
    "    l = []\n",
    "    for i in range(len(str1)):\n",
    "        if len(str1[i]) > numb:\n",
    "            l.append(str1[i])\n",
    "\n",
    "    return l \n",
    "\n",
    "\n",
    "def fun():\n",
    "    words=input(\"Enter list of word : \").split(',')\n",
    "    integer=int(input(\"Enter integer : \"))\n",
    "    words1=filter_long_words(words,integer)\n",
    "\n",
    "    print(\"The list of words longer than the integer is\",words1)\n",
    "\n",
    "fun()  "
   ]
  },
  {
   "cell_type": "markdown",
   "metadata": {},
   "source": [
    "Question 2.1"
   ]
  },
  {
   "cell_type": "code",
   "execution_count": 4,
   "metadata": {},
   "outputs": [
    {
     "name": "stdout",
     "output_type": "stream",
     "text": [
      "[7, 5, 9]\n"
     ]
    }
   ],
   "source": [
    "def len_word(words_list):\n",
    "    l = []\n",
    "    for n in words_list:\n",
    "        l.append(len(n))\n",
    "    \n",
    "    return l\n",
    "\n",
    "print(len_word([\"Ineuron\", \"Rahul\", \"Sudhanshu\"]))"
   ]
  },
  {
   "cell_type": "markdown",
   "metadata": {},
   "source": [
    "Question 2.2"
   ]
  },
  {
   "cell_type": "code",
   "execution_count": 5,
   "metadata": {},
   "outputs": [
    {
     "name": "stdout",
     "output_type": "stream",
     "text": [
      "Enter a single character for checking vowel or consonant : a\n"
     ]
    },
    {
     "data": {
      "text/plain": [
       "True"
      ]
     },
     "execution_count": 5,
     "metadata": {},
     "output_type": "execute_result"
    }
   ],
   "source": [
    "def fun(ch):\n",
    "    if len(ch)==1:\n",
    "        if(ch=='A' or ch=='a' or ch=='E' or ch =='e' or ch=='I' or ch=='i' or ch=='O' or ch=='o' or ch=='U' or ch=='u'):\n",
    "            return True\n",
    "        else:\n",
    "            return False\n",
    "    return 'Invalid input please enter single character'\n",
    "        \n",
    "ch=input('Enter a single character for checking vowel or consonant : ')\n",
    "fun(ch)"
   ]
  },
  {
   "cell_type": "code",
   "execution_count": null,
   "metadata": {},
   "outputs": [],
   "source": []
  }
 ],
 "metadata": {
  "kernelspec": {
   "display_name": "Python 3",
   "language": "python",
   "name": "python3"
  },
  "language_info": {
   "codemirror_mode": {
    "name": "ipython",
    "version": 3
   },
   "file_extension": ".py",
   "mimetype": "text/x-python",
   "name": "python",
   "nbconvert_exporter": "python",
   "pygments_lexer": "ipython3",
   "version": "3.7.3"
  }
 },
 "nbformat": 4,
 "nbformat_minor": 2
}
